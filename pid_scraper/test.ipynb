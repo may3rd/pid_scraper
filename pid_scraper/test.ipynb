{
    "cells": [
        {
            "cell_type": "code",
            "execution_count": 2,
            "metadata": {},
            "outputs": [
                {
                    "name": "stdout",
                    "output_type": "stream",
                    "text": [
                        "0 torch.Size([3, 288, 288]) [{'class_id': 4, 'class_name': 'gate valve', 'image_path': '../datasets/dataset300/images/train/pid_00008_183.jpg', 'top': 90, 'left': 237, 'width': 20, 'height': 34}, {'class_id': 4, 'class_name': 'gate valve', 'image_path': '../datasets/dataset300/images/train/pid_00008_183.jpg', 'top': 46, 'left': 258, 'width': 29, 'height': 18}]\n",
                        "1 torch.Size([3, 288, 288]) [{'class_id': 4, 'class_name': 'gate valve', 'image_path': '../datasets/dataset300/images/train/pid_00003_98.jpg', 'top': 43, 'left': 192, 'width': 32, 'height': 17}, {'class_id': 4, 'class_name': 'gate valve', 'image_path': '../datasets/dataset300/images/train/pid_00003_98.jpg', 'top': 70, 'left': 170, 'width': 18, 'height': 33}, {'class_id': 4, 'class_name': 'gate valve', 'image_path': '../datasets/dataset300/images/train/pid_00003_98.jpg', 'top': 196, 'left': 104, 'width': 30, 'height': 16}, {'class_id': 4, 'class_name': 'gate valve', 'image_path': '../datasets/dataset300/images/train/pid_00003_98.jpg', 'top': 217, 'left': 66, 'width': 16, 'height': 33}, {'class_id': 5, 'class_name': 'globe valve', 'image_path': '../datasets/dataset300/images/train/pid_00003_98.jpg', 'top': 71, 'left': 63, 'width': 20, 'height': 33}]\n",
                        "2 torch.Size([3, 288, 288]) [{'class_id': 3, 'class_name': 'check valve', 'image_path': '../datasets/dataset300/images/train/pid_00003_126.jpg', 'top': 195, 'left': 92, 'width': 40, 'height': 20}]\n"
                    ]
                }
            ],
            "source": [
                "from utils.myDataset import myDataset\n",
                "import numpy as np\n",
                "import matplotlib.pyplot as plt\n",
                "import torchvision.transforms.functional as F\n",
                "from torchvision.utils import draw_bounding_boxes, make_grid\n",
                "\n",
                "plt.rcParams[\"savefig.bbox\"] = 'tight'\n",
                "\n",
                "\n",
                "def show(imgs):\n",
                "    if not isinstance(imgs, list):\n",
                "        imgs = [imgs]\n",
                "    fig, axs = plt.subplots(ncols=len(imgs), squeeze=False)\n",
                "    for i, img in enumerate(imgs):\n",
                "        img = img.detach()\n",
                "        img = F.to_pil_image(img)\n",
                "        axs[0, i].imshow(np.asarray(img))\n",
                "        axs[0, i].set(xticklabels=[], yticklabels=[], xticks=[], yticks=[])\n",
                "\n",
                "\n",
                "my_dataset = myDataset('../datasets/dataset300/dataset.yaml')\n",
                "\n",
                "images_to_show_list = []\n",
                "\n",
                "for i, sample in enumerate(my_dataset): # type: ignore\n",
                "    print(i, sample['image'].shape, sample['annotations'])\n",
                "\n",
                "    if i == 2:\n",
                "        break\n",
                "\n",
                "    image = sample['image']\n",
                "    images_to_show_list.append(image)\n",
                "\n",
                "grid = make_grid(images_to_show_list)\n",
                "plt.show()"
            ]
        }
    ],
    "metadata": {
        "kernelspec": {
            "display_name": "pid_scraper",
            "language": "python",
            "name": "python3"
        },
        "language_info": {
            "codemirror_mode": {
                "name": "ipython",
                "version": 3
            },
            "file_extension": ".py",
            "mimetype": "text/x-python",
            "name": "python",
            "nbconvert_exporter": "python",
            "pygments_lexer": "ipython3",
            "version": "3.11.0"
        },
        "orig_nbformat": 4
    },
    "nbformat": 4,
    "nbformat_minor": 2
}
