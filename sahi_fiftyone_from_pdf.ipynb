{
    "cells": [
        {
            "cell_type": "markdown",
            "id": "1f21274b",
            "metadata": {},
            "source": [
                "# Setup\n",
                "\n",
                "Start with create the function for exporting pdf."
            ]
        },
        {
            "cell_type": "code",
            "execution_count": 1,
            "id": "ef09d91f-132c-4003-85e3-ca2bb681dcc7",
            "metadata": {},
            "outputs": [],
            "source": [
                "import os\n",
                "import fitz  # PyMuPDF\n",
                "from PIL import Image\n",
                "\n",
                "\n",
                "def convert_pdf_to_jpg(pdf_file_path, output_folder, max_width, resolution):\n",
                "    # Open the PDF document\n",
                "    pdf_document = fitz.open(pdf_file_path)\n",
                "\n",
                "    # Extract file name\n",
                "    base_filename = os.path.splitext(os.path.basename(pdf_file_path))[0]\n",
                "\n",
                "    # Convert each page to JPEG images with specific resolution\n",
                "    for page_number in range(pdf_document.page_count):\n",
                "        page = pdf_document[page_number]\n",
                "        image = page.get_pixmap(matrix=fitz.Matrix(1, 1).prescale(resolution / 72, resolution / 72))\n",
                "\n",
                "        # If current image width larger than max_width charge the size of converted image\n",
                "        width, height = image.width, image.height\n",
                "\n",
                "        if width > max_width:\n",
                "            new_height = int(height * max_width / width)\n",
                "            image = page.get_pixmap(matrix=fitz.Matrix(1, 1).prescale(resolution / 72, resolution / 72))\n",
                "\n",
                "        # Generate image file name to save\n",
                "        image_file_poth = os.path.join(output_folder, f\"{base_filename}_page{page_number + 1}.jpg\")\n",
                "\n",
                "        # Save image\n",
                "        image.save(image_file_poth)\n",
                "\n",
                "    # Close the PDF document\n",
                "    pdf_document.close()\n",
                "\n",
                "\n",
                "def batch_convert_pdf_to_jpg(input_folder, output_folder, max_width, resolution):\n",
                "    # Create output folder if not exist\n",
                "    if not os.path.exists(output_folder):\n",
                "        os.makedirs(output_folder)\n",
                "\n",
                "    # Searching for all PDF files in input folder\n",
                "    for filename in os.listdir(input_folder):\n",
                "        if filename.endswith(\".pdf\"):\n",
                "            pdf_file_path = os.path.join(input_folder, filename)\n",
                "\n",
                "            # Call convert function for each file\n",
                "            convert_pdf_to_jpg(pdf_file_path, output_folder, max_width, resolution)\n",
                "\n",
                "            # log for convert file\n",
                "            print(f\"Converted {filename} to JPG images.\")"
            ]
        },
        {
            "cell_type": "markdown",
            "id": "55b9366d",
            "metadata": {},
            "source": [
                "Then set for the input and output locations."
            ]
        },
        {
            "cell_type": "code",
            "execution_count": 3,
            "id": "bc4ccd03-0825-4a21-bba7-cb6684e850a5",
            "metadata": {},
            "outputs": [
                {
                    "name": "stdout",
                    "output_type": "stream",
                    "text": [
                        "Converted 14780-8120-25-22-0020_P&ID OXIDATION UNIT CHARCOAL ADSORBER B_Z1.pdf to JPG images.\n",
                        "Converted 14780-8120-25-22-0019_P&ID OXIDATION UNIT CHARCOAL ADSORBER A_Z1.pdf to JPG images.\n",
                        "Converted 14780-8120-25-21-0005_P&ID Q-MAX UNIT ALKYLATION REACTOR FEED HEATER_Z1.pdf to JPG images.\n",
                        "Converted 14780-8120-25-21-0003A_P&ID Q-MAX UNIT PROPYLENE FEED ARSINE GUARD BED_Z1.pdf to JPG images.\n",
                        "Converted 14780-8120-25-22-0021_P&ID OXIDATION UNIT CHARCOAL ADSORBER C_Z1.pdf to JPG images.\n",
                        "Converted 14780-8120-25-21-0006_P&ID Q-MAX UNIT ALKYLATION REACTOR FEED_Z1.pdf to JPG images.\n",
                        "Converted 14780-8120-25-21-0003_P&ID Q-MAX UNIT PROPYLENE FEED GUARD BEDS_Z1.pdf to JPG images.\n",
                        "Converted 14780-8120-25-22-0023_P&ID OXIDATION UNIT CHP SUMP_Z1.pdf to JPG images.\n",
                        "Converted 14780-8120-25-21-0004_P&ID Q-MAX UNIT PROPYLENE FEED SURGE DRUM_Z1.pdf to JPG images.\n",
                        "Converted 14780-8120-25-22-0022_P&ID OXIDATION UNIT CHP PROCESS WATER PUMPS_Z1.pdf to JPG images.\n"
                    ]
                }
            ],
            "source": [
                "input_folder = \"datasets/pdf_input\"  # Provide the path to the folder containing PDFs\n",
                "output_folder = \"fiftyone/coco_test\"  # Provide the path to the output folder\n",
                "\n",
                "max_width = 4961  # Specify the maximum image width in pixels, 4960 is A3 at 300 DPI\n",
                "# Landscape A3 is 4960x3508 at 300 DPI\n",
                "resolution = 300  # Specify the resolution in DPI\n",
                "\n",
                "# Call function to convert PDF file in input folder\n",
                "batch_convert_pdf_to_jpg(input_folder, output_folder, max_width, resolution)"
            ]
        },
        {
            "cell_type": "markdown",
            "id": "ce076a73",
            "metadata": {},
            "source": [
                "Create Coco object to generate json file for use in batch prediction."
            ]
        },
        {
            "cell_type": "code",
            "execution_count": 4,
            "id": "5a0eee12-f358-47ed-956c-bb29213727cd",
            "metadata": {},
            "outputs": [
                {
                    "name": "stdout",
                    "output_type": "stream",
                    "text": [
                        "There are 15 listed files in folder: coco_test/\n",
                        "14780-8120-25-21-0003A_P&ID Q-MAX UNIT PROPYLENE FEED ARSINE GUARD BED_Z1_page1.jpg\n",
                        "14780-8120-25-21-0003_P&ID Q-MAX UNIT PROPYLENE FEED GUARD BEDS_Z1_page1.jpg\n",
                        "14780-8120-25-21-0004_P&ID Q-MAX UNIT PROPYLENE FEED SURGE DRUM_Z1_page1.jpg\n",
                        "14780-8120-25-21-0005_P&ID Q-MAX UNIT ALKYLATION REACTOR FEED HEATER_Z1_page1.jpg\n",
                        "14780-8120-25-21-0006_P&ID Q-MAX UNIT ALKYLATION REACTOR FEED_Z1_page1.jpg\n",
                        "14780-8120-25-22-0004_P&ID OXIDATION UNIT FRESH FEED HEADER_Z1_page1.jpg\n",
                        "14780-8120-25-22-0005A_P&ID OXIDATION UNIT CAUSTIC WASH CIRCULATION PUMPS_Z1_page1.jpg\n",
                        "14780-8120-25-22-0005_P&ID OXIDATION UNIT FEED WASH COLUMN_Z1_page1.jpg\n",
                        "14780-8120-25-22-0006_P&ID OXIDATION UNIT COMBINED FEED SURGE DRUM_Z1_page1.jpg\n",
                        "14780-8120-25-22-0007_P&ID OXIDATION UNIT OXIDIZER AIR COMPRESSOR_Z1_page1.jpg\n",
                        "14780-8120-25-22-0019_P&ID OXIDATION UNIT CHARCOAL ADSORBER A_Z1_page1.jpg\n",
                        "14780-8120-25-22-0020_P&ID OXIDATION UNIT CHARCOAL ADSORBER B_Z1_page1.jpg\n",
                        "14780-8120-25-22-0021_P&ID OXIDATION UNIT CHARCOAL ADSORBER C_Z1_page1.jpg\n",
                        "14780-8120-25-22-0022_P&ID OXIDATION UNIT CHP PROCESS WATER PUMPS_Z1_page1.jpg\n",
                        "14780-8120-25-22-0023_P&ID OXIDATION UNIT CHP SUMP_Z1_page1.jpg\n"
                    ]
                }
            ],
            "source": [
                "# Create coco_dataset.json\n",
                "# import utils\n",
                "from sahi.utils.coco import Coco, CocoCategory, CocoImage, CocoAnnotation, CocoPrediction\n",
                "from sahi.utils.file import load_json, save_json, list_files\n",
                "from PIL import Image\n",
                "\n",
                "# Function to determine image WxH\n",
                "def get_image_size(image_path):\n",
                "    with Image.open(image_path) as img:\n",
                "        width, height = img.size\n",
                "    return width, height\n",
                "\n",
                "image_path = output_folder  # Get images path from output folder previously\n",
                "image_files = list_files(output_folder, [\".jpg\", \".png\"])  # work with JPG or PNG file\n",
                "coco_dataset_json_template = \"datasets/json/pid_dataset.json\"  # Category Template for PID_dataset\n",
                "coco_json_output = os.path.join(output_folder,\"coco_dataset.json\")  # COCO dataset to be saved in output folder\n",
                "\n",
                "# Create coco object\n",
                "coco = Coco()\n",
                "\n",
                "# Add images to Coco dataset\n",
                "image_files.sort()\n",
                "\n",
                "for file in image_files:\n",
                "    # Get file name\n",
                "    filename = os.path.basename(file)\n",
                "\n",
                "    # Split the file name and extension\n",
                "    filename_without_extension, extension = os.path.splitext(filename)\n",
                "\n",
                "    # Reconstruct file name without abosulte path\n",
                "    filename = filename_without_extension + extension\n",
                "\n",
                "    # Logging the file name\n",
                "    print(filename)\n",
                "\n",
                "    # Get the width and height of the image\n",
                "    width, height = get_image_size(file)\n",
                "\n",
                "    # Create CocoImage instant to add to dataset\n",
                "    coco_img = CocoImage(file_name=filename, width=width, height=height)\n",
                "\n",
                "    # Add image to coco dataset\n",
                "    coco.add_image(coco_img)\n",
                "\n",
                "# Create dataset for category loading\n",
                "data = load_json(coco_dataset_json_template)\n",
                "categories = data[\"categories\"]\n",
                "\n",
                "# Add category to coco dataset\n",
                "for index, category in enumerate(categories):\n",
                "    coco.add_category(CocoCategory(id=index, name=category[\"name\"], supercategory=category[\"supercategory\"]))\n",
                "\n",
                "# Save JSON file for coco dataset\n",
                "save_json(coco.json, coco_json_output)"
            ]
        },
        {
            "cell_type": "markdown",
            "id": "8449cecc",
            "metadata": {},
            "source": [
                "Import necessory modules."
            ]
        },
        {
            "cell_type": "code",
            "execution_count": 5,
            "id": "451085be-325f-419a-aabb-625493653462",
            "metadata": {},
            "outputs": [
                {
                    "name": "stderr",
                    "output_type": "stream",
                    "text": [
                        "08/22/2023 14:52:47 - INFO - httpx -   HTTP Request: POST https://www.google-analytics.com/collect \"HTTP/1.1 200 OK\"\n"
                    ]
                }
            ],
            "source": [
                "# Import module\n",
                "from sahi.predict import predict\n",
                "import fiftyone as fo\n",
                "import fiftyone.utils.coco as fouc\n",
                "import fiftyone.utils.annotations as foua"
            ]
        },
        {
            "cell_type": "markdown",
            "id": "2717b9b1",
            "metadata": {},
            "source": [
                "Run the batech prediciton and get the result."
            ]
        },
        {
            "cell_type": "code",
            "execution_count": 6,
            "id": "c070d42e-665a-41b7-b40a-7072a09c49d9",
            "metadata": {},
            "outputs": [
                {
                    "name": "stdout",
                    "output_type": "stream",
                    "text": [
                        "indexing coco dataset annotations...\n"
                    ]
                },
                {
                    "name": "stderr",
                    "output_type": "stream",
                    "text": [
                        "Loading coco annotations: 100%|██████████| 15/15 [00:00<00:00, 43721.03it/s]"
                    ]
                },
                {
                    "name": "stderr",
                    "output_type": "stream",
                    "text": [
                        "\n",
                        "Performing inference on images:   0%|          | 0/15 [00:00<?, ?it/s]"
                    ]
                },
                {
                    "name": "stdout",
                    "output_type": "stream",
                    "text": [
                        "Performing prediction on 54 number of slices.\n"
                    ]
                },
                {
                    "name": "stderr",
                    "output_type": "stream",
                    "text": [
                        "Performing inference on images:   7%|▋         | 1/15 [00:23<05:22, 23.04s/it]"
                    ]
                },
                {
                    "name": "stdout",
                    "output_type": "stream",
                    "text": [
                        "Prediction time is: 22597.80 ms\n"
                    ]
                },
                {
                    "name": "stderr",
                    "output_type": "stream",
                    "text": [
                        "Performing inference on images:   7%|▋         | 1/15 [00:23<05:22, 23.04s/it]"
                    ]
                },
                {
                    "name": "stdout",
                    "output_type": "stream",
                    "text": [
                        "Performing prediction on 54 number of slices.\n"
                    ]
                },
                {
                    "name": "stderr",
                    "output_type": "stream",
                    "text": [
                        "Performing inference on images:  13%|█▎        | 2/15 [00:34<03:32, 16.34s/it]"
                    ]
                },
                {
                    "name": "stdout",
                    "output_type": "stream",
                    "text": [
                        "Prediction time is: 11273.80 ms\n"
                    ]
                },
                {
                    "name": "stderr",
                    "output_type": "stream",
                    "text": [
                        "Performing inference on images:  13%|█▎        | 2/15 [00:35<03:32, 16.34s/it]"
                    ]
                },
                {
                    "name": "stdout",
                    "output_type": "stream",
                    "text": [
                        "Performing prediction on 54 number of slices.\n"
                    ]
                },
                {
                    "name": "stderr",
                    "output_type": "stream",
                    "text": [
                        "Performing inference on images:  20%|██        | 3/15 [00:46<02:53, 14.42s/it]"
                    ]
                },
                {
                    "name": "stdout",
                    "output_type": "stream",
                    "text": [
                        "Prediction time is: 11840.87 ms\n"
                    ]
                },
                {
                    "name": "stderr",
                    "output_type": "stream",
                    "text": [
                        "Performing inference on images:  20%|██        | 3/15 [00:47<02:53, 14.42s/it]"
                    ]
                },
                {
                    "name": "stdout",
                    "output_type": "stream",
                    "text": [
                        "Performing prediction on 54 number of slices.\n"
                    ]
                },
                {
                    "name": "stderr",
                    "output_type": "stream",
                    "text": [
                        "Performing inference on images:  27%|██▋       | 4/15 [00:59<02:31, 13.76s/it]"
                    ]
                },
                {
                    "name": "stdout",
                    "output_type": "stream",
                    "text": [
                        "Prediction time is: 12397.18 ms\n"
                    ]
                },
                {
                    "name": "stderr",
                    "output_type": "stream",
                    "text": [
                        "Performing inference on images:  27%|██▋       | 4/15 [00:59<02:31, 13.76s/it]"
                    ]
                },
                {
                    "name": "stdout",
                    "output_type": "stream",
                    "text": [
                        "Performing prediction on 54 number of slices.\n"
                    ]
                },
                {
                    "name": "stderr",
                    "output_type": "stream",
                    "text": [
                        "Performing inference on images:  33%|███▎      | 5/15 [01:12<02:13, 13.34s/it]"
                    ]
                },
                {
                    "name": "stdout",
                    "output_type": "stream",
                    "text": [
                        "Prediction time is: 12278.02 ms\n"
                    ]
                },
                {
                    "name": "stderr",
                    "output_type": "stream",
                    "text": [
                        "Performing inference on images:  33%|███▎      | 5/15 [01:12<02:13, 13.34s/it]"
                    ]
                },
                {
                    "name": "stdout",
                    "output_type": "stream",
                    "text": [
                        "Performing prediction on 54 number of slices.\n"
                    ]
                },
                {
                    "name": "stderr",
                    "output_type": "stream",
                    "text": [
                        "Performing inference on images:  40%|████      | 6/15 [01:24<01:55, 12.89s/it]"
                    ]
                },
                {
                    "name": "stdout",
                    "output_type": "stream",
                    "text": [
                        "Prediction time is: 11740.65 ms\n"
                    ]
                },
                {
                    "name": "stderr",
                    "output_type": "stream",
                    "text": [
                        "Performing inference on images:  40%|████      | 6/15 [01:24<01:55, 12.89s/it]"
                    ]
                },
                {
                    "name": "stdout",
                    "output_type": "stream",
                    "text": [
                        "Performing prediction on 54 number of slices.\n"
                    ]
                },
                {
                    "name": "stderr",
                    "output_type": "stream",
                    "text": [
                        "Performing inference on images:  47%|████▋     | 7/15 [01:36<01:40, 12.55s/it]"
                    ]
                },
                {
                    "name": "stdout",
                    "output_type": "stream",
                    "text": [
                        "Prediction time is: 11584.49 ms\n"
                    ]
                },
                {
                    "name": "stderr",
                    "output_type": "stream",
                    "text": [
                        "Performing inference on images:  47%|████▋     | 7/15 [01:36<01:40, 12.55s/it]"
                    ]
                },
                {
                    "name": "stdout",
                    "output_type": "stream",
                    "text": [
                        "Performing prediction on 54 number of slices.\n"
                    ]
                },
                {
                    "name": "stderr",
                    "output_type": "stream",
                    "text": [
                        "Performing inference on images:  53%|█████▎    | 8/15 [01:48<01:27, 12.45s/it]"
                    ]
                },
                {
                    "name": "stdout",
                    "output_type": "stream",
                    "text": [
                        "Prediction time is: 11932.45 ms\n"
                    ]
                },
                {
                    "name": "stderr",
                    "output_type": "stream",
                    "text": [
                        "Performing inference on images:  53%|█████▎    | 8/15 [01:48<01:27, 12.45s/it]"
                    ]
                },
                {
                    "name": "stdout",
                    "output_type": "stream",
                    "text": [
                        "Performing prediction on 54 number of slices.\n"
                    ]
                },
                {
                    "name": "stderr",
                    "output_type": "stream",
                    "text": [
                        "Performing inference on images:  60%|██████    | 9/15 [02:00<01:14, 12.38s/it]"
                    ]
                },
                {
                    "name": "stdout",
                    "output_type": "stream",
                    "text": [
                        "Prediction time is: 11932.80 ms\n"
                    ]
                },
                {
                    "name": "stderr",
                    "output_type": "stream",
                    "text": [
                        "Performing inference on images:  60%|██████    | 9/15 [02:00<01:14, 12.38s/it]"
                    ]
                },
                {
                    "name": "stdout",
                    "output_type": "stream",
                    "text": [
                        "Performing prediction on 54 number of slices.\n"
                    ]
                },
                {
                    "name": "stderr",
                    "output_type": "stream",
                    "text": [
                        "Performing inference on images:  67%|██████▋   | 10/15 [02:12<01:01, 12.32s/it]"
                    ]
                },
                {
                    "name": "stdout",
                    "output_type": "stream",
                    "text": [
                        "Prediction time is: 11912.11 ms\n"
                    ]
                },
                {
                    "name": "stderr",
                    "output_type": "stream",
                    "text": [
                        "Performing inference on images:  67%|██████▋   | 10/15 [02:13<01:01, 12.32s/it]"
                    ]
                },
                {
                    "name": "stdout",
                    "output_type": "stream",
                    "text": [
                        "Performing prediction on 54 number of slices.\n"
                    ]
                },
                {
                    "name": "stderr",
                    "output_type": "stream",
                    "text": [
                        "Performing inference on images:  73%|███████▎  | 11/15 [02:25<00:50, 12.53s/it]"
                    ]
                },
                {
                    "name": "stdout",
                    "output_type": "stream",
                    "text": [
                        "Prediction time is: 12608.49 ms\n"
                    ]
                },
                {
                    "name": "stderr",
                    "output_type": "stream",
                    "text": [
                        "Performing inference on images:  73%|███████▎  | 11/15 [02:25<00:50, 12.53s/it]"
                    ]
                },
                {
                    "name": "stdout",
                    "output_type": "stream",
                    "text": [
                        "Performing prediction on 54 number of slices.\n"
                    ]
                },
                {
                    "name": "stderr",
                    "output_type": "stream",
                    "text": [
                        "Performing inference on images:  80%|████████  | 12/15 [02:37<00:36, 12.33s/it]"
                    ]
                },
                {
                    "name": "stdout",
                    "output_type": "stream",
                    "text": [
                        "Prediction time is: 11606.62 ms\n"
                    ]
                },
                {
                    "name": "stderr",
                    "output_type": "stream",
                    "text": [
                        "Performing inference on images:  80%|████████  | 12/15 [02:37<00:36, 12.33s/it]"
                    ]
                },
                {
                    "name": "stdout",
                    "output_type": "stream",
                    "text": [
                        "Performing prediction on 54 number of slices.\n"
                    ]
                },
                {
                    "name": "stderr",
                    "output_type": "stream",
                    "text": [
                        "Performing inference on images:  87%|████████▋ | 13/15 [02:49<00:24, 12.21s/it]"
                    ]
                },
                {
                    "name": "stdout",
                    "output_type": "stream",
                    "text": [
                        "Prediction time is: 11659.95 ms\n"
                    ]
                },
                {
                    "name": "stderr",
                    "output_type": "stream",
                    "text": [
                        "Performing inference on images:  87%|████████▋ | 13/15 [02:49<00:24, 12.21s/it]"
                    ]
                },
                {
                    "name": "stdout",
                    "output_type": "stream",
                    "text": [
                        "Performing prediction on 54 number of slices.\n"
                    ]
                },
                {
                    "name": "stderr",
                    "output_type": "stream",
                    "text": [
                        "Performing inference on images:  93%|█████████▎| 14/15 [03:02<00:12, 12.31s/it]"
                    ]
                },
                {
                    "name": "stdout",
                    "output_type": "stream",
                    "text": [
                        "Prediction time is: 12299.70 ms\n"
                    ]
                },
                {
                    "name": "stderr",
                    "output_type": "stream",
                    "text": [
                        "Performing inference on images:  93%|█████████▎| 14/15 [03:02<00:12, 12.31s/it]"
                    ]
                },
                {
                    "name": "stdout",
                    "output_type": "stream",
                    "text": [
                        "Performing prediction on 54 number of slices.\n"
                    ]
                },
                {
                    "name": "stderr",
                    "output_type": "stream",
                    "text": [
                        "Performing inference on images: 100%|██████████| 15/15 [03:14<00:00, 12.98s/it]"
                    ]
                },
                {
                    "name": "stdout",
                    "output_type": "stream",
                    "text": [
                        "Prediction time is: 12357.03 ms\n",
                        "Prediction results are successfully exported to runs/predict/exp\n",
                        "The result is save to runs/predict/exp/result.json\n"
                    ]
                },
                {
                    "name": "stderr",
                    "output_type": "stream",
                    "text": [
                        "\n"
                    ]
                }
            ],
            "source": [
                "# Set up the arguments for sahi.prediction\n",
                "source_path = output_folder\n",
                "dataset_json_path = coco_json_output\n",
                "model_type = \"yolov8\"\n",
                "model_path = \"yolo_weights/best_20230813.pt\"\n",
                "model_config_path = \"datasets/yaml/dataset.yaml\"\n",
                "model_device = \"cpu\"\n",
                "image_size = 640  # segmentation size\n",
                "\n",
                "# get batch predict result\n",
                "result = predict(\n",
                "    model_type=model_type, # one of 'yolov5', 'mmdet', 'detectron2'\n",
                "    model_path=model_path, # path to model weight file\n",
                "    model_config_path=model_config_path, # for detectron2 and mmdet models\n",
                "    model_confidence_threshold=0.1,\n",
                "    model_device=model_device, # or 'cuda:0'\n",
                "    source=source_path, # image or folder path\n",
                "    no_standard_prediction=True,\n",
                "    no_sliced_prediction=False,\n",
                "    slice_height=image_size,\n",
                "    slice_width=image_size,\n",
                "    overlap_height_ratio=0.1, \n",
                "    overlap_width_ratio=0.1,\n",
                "    export_pickle=False,\n",
                "    export_crop=False,\n",
                "    novisual=True,\n",
                "    dataset_json_path=dataset_json_path,\n",
                "    return_dict=True\n",
                ")\n",
                "\n",
                "# Set the prediction path for saving result\n",
                "prediction_path = str(result[\"export_dir\"]) + \"/result.json\"\n",
                "print(\"The result is save to\", prediction_path)"
            ]
        },
        {
            "cell_type": "markdown",
            "id": "b6b58466",
            "metadata": {},
            "source": [
                "Create FiftyOne dataset for view and exporting."
            ]
        },
        {
            "cell_type": "code",
            "execution_count": 7,
            "id": "60142329-2b71-40b6-b4d3-d0b95f097389",
            "metadata": {},
            "outputs": [
                {
                    "name": "stdout",
                    "output_type": "stream",
                    "text": [
                        " 100% |███████████████████| 15/15 [41.8ms elapsed, 0s remaining, 359.2 samples/s]     \n"
                    ]
                },
                {
                    "name": "stderr",
                    "output_type": "stream",
                    "text": [
                        "08/22/2023 15:01:46 - INFO - eta.core.utils -    100% |███████████████████| 15/15 [41.8ms elapsed, 0s remaining, 359.2 samples/s]     \n"
                    ]
                },
                {
                    "name": "stdout",
                    "output_type": "stream",
                    "text": [
                        "['angle valve', 'ball valve', 'butterfly valve', 'check valve', 'gate valve', 'globe valve', 'plug valve', 'safety valve', 'three way valve', 'control valve']\n",
                        "15\n"
                    ]
                }
            ],
            "source": [
                "# Load COCO formatted dataset\n",
                "coco_dataset = fo.Dataset.from_dir(\n",
                "    dataset_type=fo.types.COCODetectionDataset,\n",
                "    data_path=source_path,\n",
                "    labels_path=dataset_json_path,\n",
                "    include_id=True,\n",
                ")\n",
                "\n",
                "# Verify that the class list for our dataset was imported\n",
                "print(coco_dataset.default_classes)  # ['airplane', 'apple', ...]\n",
                "\n",
                "# Add COCO prediction to 'predictions' field of dataset\n",
                "classes = coco_dataset.default_classes\n",
                "fouc.add_coco_labels(coco_dataset, \"predictions\", prediction_path, classes)\n",
                "\n",
                "coco_dataset.save()\n",
                "\n",
                "#Verify that predictions were added to image\n",
                "print(coco_dataset.count(\"predictions\"))"
            ]
        },
        {
            "cell_type": "markdown",
            "id": "b5cba2fe",
            "metadata": {},
            "source": [
                "View dataset in FiftyOne app."
            ]
        },
        {
            "cell_type": "code",
            "execution_count": 8,
            "id": "462c0c7c-ee11-421f-b433-3bd762bae203",
            "metadata": {},
            "outputs": [
                {
                    "data": {
                        "text/html": [
                            "\n",
                            "        <iframe\n",
                            "            width=\"100%\"\n",
                            "            height=\"800\"\n",
                            "            src=\"http://localhost:5151/?notebook=True&subscription=a0dba8a7-3041-4ac8-a400-c83e41c2ed22\"\n",
                            "            frameborder=\"0\"\n",
                            "            allowfullscreen\n",
                            "            \n",
                            "        ></iframe>\n",
                            "        "
                        ],
                        "text/plain": [
                            "<IPython.lib.display.IFrame at 0x1624c3410>"
                        ]
                    },
                    "metadata": {},
                    "output_type": "display_data"
                },
                {
                    "name": "stdout",
                    "output_type": "stream",
                    "text": [
                        "Dataset:          2023.08.22.15.01.45\n",
                        "Media type:       image\n",
                        "Num samples:      15\n",
                        "Selected samples: 0\n",
                        "Selected labels:  0\n",
                        "Session URL:      http://localhost:5151/\n",
                        "Notebook sessions cannot wait\n"
                    ]
                },
                {
                    "name": "stderr",
                    "output_type": "stream",
                    "text": [
                        "08/22/2023 15:01:56 - WARNING - fiftyone.core.session.session -   Notebook sessions cannot wait\n"
                    ]
                }
            ],
            "source": [
                "# Start the fiftyone session\n",
                "session = fo.launch_app(coco_dataset)\n",
                "\n",
                "print(session)\n",
                "\n",
                "# Blocks execution until the App is closed\n",
                "session.wait()"
            ]
        },
        {
            "cell_type": "code",
            "execution_count": 9,
            "id": "23d2d13c-7efa-48d0-bbb3-e2f673b40c38",
            "metadata": {},
            "outputs": [],
            "source": [
                "session.close()"
            ]
        },
        {
            "cell_type": "markdown",
            "id": "16028cdb",
            "metadata": {},
            "source": [
                "Export the result image."
            ]
        },
        {
            "cell_type": "code",
            "execution_count": 10,
            "id": "7a17a5db-cd85-4fdb-bf57-7fe13863e8b4",
            "metadata": {},
            "outputs": [
                {
                    "name": "stdout",
                    "output_type": "stream",
                    "text": [
                        " 100% |█████████████████████| 0/0 [16.5ms elapsed, ? remaining, ? samples/s] \n"
                    ]
                },
                {
                    "name": "stderr",
                    "output_type": "stream",
                    "text": [
                        "08/22/2023 15:05:44 - INFO - eta.core.utils -    100% |█████████████████████| 0/0 [16.5ms elapsed, ? remaining, ? samples/s] \n"
                    ]
                },
                {
                    "data": {
                        "text/plain": [
                            "[]"
                        ]
                    },
                    "execution_count": 10,
                    "metadata": {},
                    "output_type": "execute_result"
                }
            ],
            "source": [
                "# Set the path for saving inferenced result\n",
                "draw_labels_path = output_folder + \"/draw-labels\"\n",
                "\n",
                "# Customize annotation rendering\n",
                "config = foua.DrawConfig(\n",
                "    {\n",
                "        \"font_size\": 5,\n",
                "        \"bbox_linewidth\": 1,\n",
                "        \"show_object_names\": False,\n",
                "        \"show_object_attrs\": False,\n",
                "        \"show_all_confidences\": False,\n",
                "        \"per_object_label_colors\": True,\n",
                "    }\n",
                ")\n",
                "\n",
                "# Save all inferenced images\n",
                "coco_dataset.draw_labels(\n",
                "    output_dir=draw_labels_path,\n",
                "    label_fields=None,\n",
                "    overwrite=True,\n",
                "    config=config,\n",
                ")"
            ]
        }
    ],
    "metadata": {
        "kernelspec": {
            "display_name": "Python 3 (ipykernel)",
            "language": "python",
            "name": "python3"
        },
        "language_info": {
            "codemirror_mode": {
                "name": "ipython",
                "version": 3
            },
            "file_extension": ".py",
            "mimetype": "text/x-python",
            "name": "python",
            "nbconvert_exporter": "python",
            "pygments_lexer": "ipython3",
            "version": "3.11.4"
        }
    },
    "nbformat": 4,
    "nbformat_minor": 5
}
