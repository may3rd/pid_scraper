{
 "cells": [
  {
   "cell_type": "code",
   "execution_count": 1,
   "id": "5a05ec0c-5e57-445d-a81d-0a90f3b5708c",
   "metadata": {},
   "outputs": [],
   "source": [
    "from sahi import AutoDetectionModel\n",
    "from sahi.predict import get_sliced_prediction, predict\n",
    "from sahi.utils.cv import read_image_as_pil\n",
    "import fiftyone as fo\n",
    "import fiftyone.utils.coco as fouc\n",
    "import fiftyone.utils.annotations as foua"
   ]
  },
  {
   "cell_type": "code",
   "execution_count": 2,
   "id": "c25a9d77-ebda-4f05-bba0-a774c3a55672",
   "metadata": {},
   "outputs": [
    {
     "name": "stdout",
     "output_type": "stream",
     "text": [
      "indexing coco dataset annotations...\n"
     ]
    },
    {
     "name": "stderr",
     "output_type": "stream",
     "text": [
      "Loading coco annotations: 100%|█████████████████████████████████████████████████| 10/10 [00:00<00:00, 20164.92it/s]\n",
      "08/16/2023 15:08:07 - INFO - httpx -   HTTP Request: POST https://www.google-analytics.com/collect \"HTTP/1.1 200 OK\"\n",
      "Performing inference on images:   0%|                                                       | 0/10 [00:00<?, ?it/s]"
     ]
    },
    {
     "name": "stdout",
     "output_type": "stream",
     "text": [
      "Performing prediction on 54 number of slices.\n"
     ]
    },
    {
     "name": "stderr",
     "output_type": "stream",
     "text": [
      "Performing inference on images:  10%|████▋                                          | 1/10 [00:12<01:50, 12.28s/it]"
     ]
    },
    {
     "name": "stdout",
     "output_type": "stream",
     "text": [
      "Prediction time is: 12051.56 ms\n"
     ]
    },
    {
     "name": "stderr",
     "output_type": "stream",
     "text": [
      "Performing inference on images:  10%|████▋                                          | 1/10 [00:12<01:50, 12.28s/it]"
     ]
    },
    {
     "name": "stdout",
     "output_type": "stream",
     "text": [
      "Performing prediction on 54 number of slices.\n"
     ]
    },
    {
     "name": "stderr",
     "output_type": "stream",
     "text": [
      "Performing inference on images:  20%|█████████▍                                     | 2/10 [00:28<01:56, 14.50s/it]"
     ]
    },
    {
     "name": "stdout",
     "output_type": "stream",
     "text": [
      "Prediction time is: 15775.21 ms\n"
     ]
    },
    {
     "name": "stderr",
     "output_type": "stream",
     "text": [
      "Performing inference on images:  20%|█████████▍                                     | 2/10 [00:28<01:56, 14.50s/it]"
     ]
    },
    {
     "name": "stdout",
     "output_type": "stream",
     "text": [
      "Performing prediction on 54 number of slices.\n"
     ]
    },
    {
     "name": "stderr",
     "output_type": "stream",
     "text": [
      "Performing inference on images:  30%|██████████████                                 | 3/10 [00:41<01:35, 13.63s/it]"
     ]
    },
    {
     "name": "stdout",
     "output_type": "stream",
     "text": [
      "Prediction time is: 12238.40 ms\n",
      "Performing prediction on 54 number of slices.\n"
     ]
    },
    {
     "name": "stderr",
     "output_type": "stream",
     "text": [
      "Performing inference on images:  40%|██████████████████▊                            | 4/10 [00:53<01:18, 13.11s/it]"
     ]
    },
    {
     "name": "stdout",
     "output_type": "stream",
     "text": [
      "Prediction time is: 12165.26 ms\n"
     ]
    },
    {
     "name": "stderr",
     "output_type": "stream",
     "text": [
      "Performing inference on images:  40%|██████████████████▊                            | 4/10 [00:53<01:18, 13.11s/it]"
     ]
    },
    {
     "name": "stdout",
     "output_type": "stream",
     "text": [
      "Performing prediction on 54 number of slices.\n"
     ]
    },
    {
     "name": "stderr",
     "output_type": "stream",
     "text": [
      "Performing inference on images:  50%|███████████████████████▌                       | 5/10 [01:04<01:02, 12.52s/it]"
     ]
    },
    {
     "name": "stdout",
     "output_type": "stream",
     "text": [
      "Prediction time is: 11306.67 ms\n",
      "Performing prediction on 54 number of slices.\n"
     ]
    },
    {
     "name": "stderr",
     "output_type": "stream",
     "text": [
      "Performing inference on images:  60%|████████████████████████████▏                  | 6/10 [01:16<00:48, 12.19s/it]"
     ]
    },
    {
     "name": "stdout",
     "output_type": "stream",
     "text": [
      "Prediction time is: 11408.16 ms\n"
     ]
    },
    {
     "name": "stderr",
     "output_type": "stream",
     "text": [
      "Performing inference on images:  60%|████████████████████████████▏                  | 6/10 [01:16<00:48, 12.19s/it]"
     ]
    },
    {
     "name": "stdout",
     "output_type": "stream",
     "text": [
      "Performing prediction on 54 number of slices.\n"
     ]
    },
    {
     "name": "stderr",
     "output_type": "stream",
     "text": [
      "Performing inference on images:  70%|████████████████████████████████▉              | 7/10 [01:28<00:36, 12.03s/it]"
     ]
    },
    {
     "name": "stdout",
     "output_type": "stream",
     "text": [
      "Prediction time is: 11539.09 ms\n",
      "Performing prediction on 54 number of slices.\n"
     ]
    },
    {
     "name": "stderr",
     "output_type": "stream",
     "text": [
      "Performing inference on images:  80%|█████████████████████████████████████▌         | 8/10 [01:39<00:23, 11.89s/it]"
     ]
    },
    {
     "name": "stdout",
     "output_type": "stream",
     "text": [
      "Prediction time is: 11438.97 ms\n"
     ]
    },
    {
     "name": "stderr",
     "output_type": "stream",
     "text": [
      "Performing inference on images:  80%|█████████████████████████████████████▌         | 8/10 [01:39<00:23, 11.89s/it]"
     ]
    },
    {
     "name": "stdout",
     "output_type": "stream",
     "text": [
      "Performing prediction on 54 number of slices.\n"
     ]
    },
    {
     "name": "stderr",
     "output_type": "stream",
     "text": [
      "Performing inference on images:  90%|██████████████████████████████████████████▎    | 9/10 [01:51<00:11, 11.85s/it]"
     ]
    },
    {
     "name": "stdout",
     "output_type": "stream",
     "text": [
      "Prediction time is: 11569.76 ms\n"
     ]
    },
    {
     "name": "stderr",
     "output_type": "stream",
     "text": [
      "Performing inference on images:  90%|██████████████████████████████████████████▎    | 9/10 [01:51<00:11, 11.85s/it]"
     ]
    },
    {
     "name": "stdout",
     "output_type": "stream",
     "text": [
      "Performing prediction on 54 number of slices.\n"
     ]
    },
    {
     "name": "stderr",
     "output_type": "stream",
     "text": [
      "Performing inference on images: 100%|██████████████████████████████████████████████| 10/10 [02:03<00:00, 12.32s/it]"
     ]
    },
    {
     "name": "stdout",
     "output_type": "stream",
     "text": [
      "Prediction time is: 11711.89 ms\n",
      "Prediction results are successfully exported to fiftyone/coco_test/ext3\n",
      "fiftyone/coco_test/ext3/result.json\n"
     ]
    },
    {
     "name": "stderr",
     "output_type": "stream",
     "text": [
      "\n"
     ]
    }
   ],
   "source": [
    "source_path = \"fiftyone/coco_test\"\n",
    "dataset_json_path = source_path + \"/coco_dataset.json\"\n",
    "model_type = \"yolov8\"\n",
    "model_path = \"yolo_weights/best_20230813.pt\"\n",
    "model_config_path = \"data/pid_dataset.yaml\"\n",
    "model_device = \"cpu\"\n",
    "\n",
    "# get batch predict result\n",
    "result = predict(\n",
    "    model_type=model_type, # one of 'yolov5', 'mmdet', 'detectron2'\n",
    "    model_path=model_path, # path to model weight file\n",
    "    model_config_path=model_config_path, # for detectron2 and mmdet models\n",
    "    model_confidence_threshold=0.1,\n",
    "    model_device=model_device, # or 'cuda:0'\n",
    "    source=source_path, # image or folder path\n",
    "    no_standard_prediction=True,\n",
    "    no_sliced_prediction=False,\n",
    "    slice_height=640,\n",
    "    slice_width=640,\n",
    "    overlap_height_ratio=0.1, \n",
    "    overlap_width_ratio=0.1,\n",
    "    export_pickle=False,\n",
    "    export_crop=False,\n",
    "    novisual=True,\n",
    "    project=source_path,\n",
    "    name=\"ext\",\n",
    "    dataset_json_path=dataset_json_path,\n",
    "    return_dict=True\n",
    ")\n",
    "\n",
    "prediction_path = str(result[\"export_dir\"]) + \"/result.json\"\n",
    "print(prediction_path)"
   ]
  },
  {
   "cell_type": "code",
   "execution_count": 4,
   "id": "a120f38c-41c8-4392-b300-55cea0630492",
   "metadata": {},
   "outputs": [
    {
     "name": "stdout",
     "output_type": "stream",
     "text": []
    },
    {
     "name": "stdout",
     "output_type": "stream",
     "text": [
      " 100% |███████████████████| 10/10 [27.5ms elapsed, 0s remaining, 363.1 samples/s]     \n"
     ]
    },
    {
     "name": "stderr",
     "output_type": "stream",
     "text": [
      "08/16/2023 15:10:20 - INFO - eta.core.utils -    100% |███████████████████| 10/10 [27.5ms elapsed, 0s remaining, 363.1 samples/s]     \n"
     ]
    },
    {
     "name": "stdout",
     "output_type": "stream",
     "text": [
      "['angle valve', 'ball valve', 'butterfly valve', 'check valve', 'gate valve', 'globe valve', 'plug valve', 'safety valve', 'three way valve', 'control valve']\n",
      "10\n"
     ]
    }
   ],
   "source": [
    "# Load COCO formatted dataset\n",
    "coco_dataset = fo.Dataset.from_dir(\n",
    "    dataset_type=fo.types.COCODetectionDataset,\n",
    "    data_path=source_path,\n",
    "    labels_path=dataset_json_path,\n",
    "    include_id=True,\n",
    ")\n",
    "\n",
    "# Verify that the class list for our dataset was imported\n",
    "print(coco_dataset.default_classes)  # ['airplane', 'apple', ...]\n",
    "\n",
    "# Add COCO prediction to 'predictions' field of dataset\n",
    "classes = coco_dataset.default_classes\n",
    "fouc.add_coco_labels(coco_dataset, \"predictions\", prediction_path, classes)\n",
    "\n",
    "#Verify that predictions were added to image\n",
    "print(coco_dataset.count(\"predictions\"))"
   ]
  },
  {
   "cell_type": "code",
   "execution_count": 5,
   "id": "a7e43b05-ccde-4da9-98e6-2115603221f2",
   "metadata": {},
   "outputs": [
    {
     "data": {
      "text/html": [
       "\n",
       "        <iframe\n",
       "            width=\"100%\"\n",
       "            height=\"800\"\n",
       "            src=\"http://localhost:5151/?notebook=True&subscription=97b8bba3-65f6-43e9-8689-cc46b1843584\"\n",
       "            frameborder=\"0\"\n",
       "            allowfullscreen\n",
       "            \n",
       "        ></iframe>\n",
       "        "
      ],
      "text/plain": [
       "<IPython.lib.display.IFrame at 0x13d938650>"
      ]
     },
     "metadata": {},
     "output_type": "display_data"
    }
   ],
   "source": [
    "view = coco_dataset.view()\n",
    "\n",
    "session = fo.launch_app(view=view)\n",
    "\n",
    "print(session)"
   ]
  },
  {
   "cell_type": "code",
   "execution_count": 6,
   "id": "eb4e2319-a0ff-4e1b-9f7c-6789ebf11ac9",
   "metadata": {},
   "outputs": [
    {
     "name": "stdout",
     "output_type": "stream",
     "text": [
      "Dataset:          2023.08.16.15.10.20\n",
      "Media type:       image\n",
      "Num samples:      10\n",
      "Selected samples: 0\n",
      "Selected labels:  0\n",
      "Session URL:      http://localhost:5151/\n",
      "View stages:\n",
      "    ---\n"
     ]
    }
   ],
   "source": [
    "print(session)"
   ]
  },
  {
   "cell_type": "code",
   "execution_count": 7,
   "id": "30d1883f-07d3-47ea-b64d-e411f28c5059",
   "metadata": {},
   "outputs": [],
   "source": [
    "session.close()"
   ]
  },
  {
   "cell_type": "code",
   "execution_count": 10,
   "id": "4643c72b-23e6-4f54-8c4e-22715feeeb20",
   "metadata": {},
   "outputs": [
    {
     "name": "stdout",
     "output_type": "stream",
     "text": []
    },
    {
     "name": "stdout",
     "output_type": "stream",
     "text": [
      " 100% |███████████████████| 10/10 [3.1m elapsed, 0s remaining, 0.1 samples/s]    \n"
     ]
    },
    {
     "name": "stderr",
     "output_type": "stream",
     "text": [
      "08/16/2023 13:03:42 - INFO - eta.core.utils -    100% |███████████████████| 10/10 [3.1m elapsed, 0s remaining, 0.1 samples/s]    \n"
     ]
    },
    {
     "data": {
      "text/plain": [
       "['fiftyone/coco_test/draw-labels/pid_00001.jpg',\n",
       " 'fiftyone/coco_test/draw-labels/pid_00002.jpg',\n",
       " 'fiftyone/coco_test/draw-labels/pid_00003.jpg',\n",
       " 'fiftyone/coco_test/draw-labels/pid_00004.jpg',\n",
       " 'fiftyone/coco_test/draw-labels/pid_00005.jpg',\n",
       " 'fiftyone/coco_test/draw-labels/pid_00006.jpg',\n",
       " 'fiftyone/coco_test/draw-labels/pid_00007.jpg',\n",
       " 'fiftyone/coco_test/draw-labels/pid_00008.jpg',\n",
       " 'fiftyone/coco_test/draw-labels/pid_00009.jpg',\n",
       " 'fiftyone/coco_test/draw-labels/pid_00010.jpg']"
      ]
     },
     "execution_count": 10,
     "metadata": {},
     "output_type": "execute_result"
    }
   ],
   "source": [
    "draw_labels_path = source_path + \"/draw-labels\"\n",
    "\n",
    "# Customize annotation rendering\n",
    "config = foua.DrawConfig(\n",
    "    {\n",
    "        \"font_size\": 5,\n",
    "        \"bbox_linewidth\": 1,\n",
    "        \"show_object_names\": False,\n",
    "        \"show_object_masks\": False,\n",
    "        \"show_event_boxes\": False,\n",
    "        \"show_event_masks\": False,\n",
    "        \"show_all_confidences\": False,\n",
    "        \"per_object_label_colors\": True,\n",
    "    }\n",
    ")\n",
    "\n",
    "coco_dataset.draw_labels(\n",
    "    output_dir=draw_labels_path,\n",
    "    label_fields=None,\n",
    "    overwrite=True,\n",
    "    config=config,\n",
    ")"
   ]
  },
  {
   "cell_type": "code",
   "execution_count": null,
   "id": "a278da19-97ff-41f1-8fb8-63d7e8dab426",
   "metadata": {},
   "outputs": [],
   "source": []
  }
 ],
 "metadata": {
  "kernelspec": {
   "display_name": "Python 3 (ipykernel)",
   "language": "python",
   "name": "python3"
  },
  "language_info": {
   "codemirror_mode": {
    "name": "ipython",
    "version": 3
   },
   "file_extension": ".py",
   "mimetype": "text/x-python",
   "name": "python",
   "nbconvert_exporter": "python",
   "pygments_lexer": "ipython3",
   "version": "3.11.4"
  }
 },
 "nbformat": 4,
 "nbformat_minor": 5
}
