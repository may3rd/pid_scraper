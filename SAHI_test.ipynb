{
 "cells": [
  {
   "cell_type": "code",
   "execution_count": 1,
   "id": "5a05ec0c-5e57-445d-a81d-0a90f3b5708c",
   "metadata": {},
   "outputs": [],
   "source": [
    "from sahi import AutoDetectionModel\n",
    "from sahi.predict import get_sliced_prediction, predict\n",
    "from sahi.utils.cv import read_image_as_pil"
   ]
  },
  {
   "cell_type": "code",
   "execution_count": 2,
   "id": "72540ab2-399d-406d-8b61-a5cafb056ed3",
   "metadata": {},
   "outputs": [],
   "source": [
    "detection_model = AutoDetectionModel.from_pretrained(\n",
    "    model_type=\"yolov8\",\n",
    "    model_path=\"yolo_weights/best_20230813.pt\",\n",
    "    config_path=\"data/pid_dataset.yaml\",\n",
    "    confidence_threshold=0.4,\n",
    "    device=\"cpu\",\n",
    ")"
   ]
  },
  {
   "cell_type": "code",
   "execution_count": 3,
   "id": "d21abb4f-5f42-4af2-89a4-abd02f47040d",
   "metadata": {},
   "outputs": [],
   "source": [
    "image_path = \"test/pid_00002.jpg\"\n",
    "image = read_image_as_pil(image_path)"
   ]
  },
  {
   "cell_type": "code",
   "execution_count": 4,
   "id": "dcf31565-4810-406a-863f-1aeff00ec538",
   "metadata": {},
   "outputs": [
    {
     "name": "stdout",
     "output_type": "stream",
     "text": [
      "Performing prediction on 70 number of slices.\n"
     ]
    }
   ],
   "source": [
    "result = get_sliced_prediction(\n",
    "    image,\n",
    "    detection_model,\n",
    "    slice_height=640,\n",
    "    slice_width=640,\n",
    "    overlap_height_ratio=0.2,\n",
    "    overlap_width_ratio=0.2,\n",
    ")"
   ]
  },
  {
   "cell_type": "code",
   "execution_count": 31,
   "id": "c7ec53f7-8196-4e96-8bdc-2babb1f21cb2",
   "metadata": {},
   "outputs": [],
   "source": [
    "from sahi.utils.coco import Coco, CocoCategory, CocoImage, CocoAnnotation, CocoPrediction"
   ]
  },
  {
   "cell_type": "code",
   "execution_count": 46,
   "id": "411429c8-5b10-4ed1-ab0c-52ff79bf5898",
   "metadata": {},
   "outputs": [],
   "source": [
    "coco = Coco()\n",
    "coco_image = CocoImage(file_name=image_path, height=3509, width=4963)\n",
    "\n",
    "for index, category in enumerate(list(detection_model.category_names)):\n",
    "    coco.add_category(CocoCategory(id=index, name=category))\n",
    "\n",
    "category_names = detection_model.category_names\n",
    "\n",
    "for p in result.object_prediction_list:\n",
    "    coco_image.add_prediction(\n",
    "        CocoPrediction(\n",
    "            score=p.score.value,\n",
    "            bbox=p.bbox.to_coco_bbox(),\n",
    "            category_id=p.category.id,\n",
    "            category_name=p.category.name\n",
    "        )\n",
    "    )"
   ]
  },
  {
   "cell_type": "code",
   "execution_count": 47,
   "id": "f89f300b-d284-4a05-961b-d374804aed63",
   "metadata": {},
   "outputs": [],
   "source": [
    "coco.add_image(coco_image)"
   ]
  },
  {
   "cell_type": "code",
   "execution_count": 50,
   "id": "82897bef-f6f6-4e95-b798-f8c6a857bbfb",
   "metadata": {},
   "outputs": [],
   "source": [
    "coco_json = coco.json\n",
    "prediction_array = coco.prediction_array"
   ]
  },
  {
   "cell_type": "code",
   "execution_count": 51,
   "id": "736f3ad0-aaf9-4aa0-8c12-66d1c44dbda1",
   "metadata": {},
   "outputs": [],
   "source": [
    "from sahi.utils.file import save_json\n",
    "\n",
    "save_json(coco_json, \"output/coco_dataset.json\")\n",
    "save_json = save_json(prediction_array, \"output/coco_prediction.json\")"
   ]
  },
  {
   "cell_type": "code",
   "execution_count": 14,
   "id": "c25a9d77-ebda-4f05-bba0-a774c3a55672",
   "metadata": {},
   "outputs": [
    {
     "name": "stdout",
     "output_type": "stream",
     "text": [
      "indexing coco dataset annotations...\n"
     ]
    },
    {
     "name": "stderr",
     "output_type": "stream",
     "text": [
      "Loading coco annotations: 100%|█████████████████████████████████████████████████| 10/10 [00:00<00:00, 32463.65it/s]\n",
      "Performing inference on images:   0%|                                                       | 0/10 [00:00<?, ?it/s]"
     ]
    },
    {
     "name": "stdout",
     "output_type": "stream",
     "text": [
      "Performing prediction on 54 number of slices.\n"
     ]
    },
    {
     "name": "stderr",
     "output_type": "stream",
     "text": [
      "Performing inference on images:  10%|████▋                                          | 1/10 [00:13<02:03, 13.73s/it]"
     ]
    },
    {
     "name": "stdout",
     "output_type": "stream",
     "text": [
      "Prediction time is: 13554.01 ms\n"
     ]
    },
    {
     "name": "stderr",
     "output_type": "stream",
     "text": [
      "Performing inference on images:  10%|████▋                                          | 1/10 [00:14<02:03, 13.73s/it]"
     ]
    },
    {
     "name": "stdout",
     "output_type": "stream",
     "text": [
      "Performing prediction on 54 number of slices.\n"
     ]
    },
    {
     "name": "stderr",
     "output_type": "stream",
     "text": [
      "Performing inference on images:  20%|█████████▍                                     | 2/10 [00:25<01:41, 12.75s/it]"
     ]
    },
    {
     "name": "stdout",
     "output_type": "stream",
     "text": [
      "Prediction time is: 11840.98 ms\n"
     ]
    },
    {
     "name": "stderr",
     "output_type": "stream",
     "text": [
      "Performing inference on images:  20%|█████████▍                                     | 2/10 [00:26<01:41, 12.75s/it]"
     ]
    },
    {
     "name": "stdout",
     "output_type": "stream",
     "text": [
      "Performing prediction on 54 number of slices.\n"
     ]
    },
    {
     "name": "stderr",
     "output_type": "stream",
     "text": [
      "Performing inference on images:  30%|██████████████                                 | 3/10 [00:37<01:27, 12.47s/it]"
     ]
    },
    {
     "name": "stdout",
     "output_type": "stream",
     "text": [
      "Prediction time is: 11952.93 ms\n"
     ]
    },
    {
     "name": "stderr",
     "output_type": "stream",
     "text": [
      "Performing inference on images:  30%|██████████████                                 | 3/10 [00:38<01:27, 12.47s/it]"
     ]
    },
    {
     "name": "stdout",
     "output_type": "stream",
     "text": [
      "Performing prediction on 54 number of slices.\n"
     ]
    },
    {
     "name": "stderr",
     "output_type": "stream",
     "text": [
      "Performing inference on images:  40%|██████████████████▊                            | 4/10 [00:49<01:13, 12.27s/it]"
     ]
    },
    {
     "name": "stdout",
     "output_type": "stream",
     "text": [
      "Prediction time is: 11812.89 ms\n"
     ]
    },
    {
     "name": "stderr",
     "output_type": "stream",
     "text": [
      "Performing inference on images:  40%|██████████████████▊                            | 4/10 [00:50<01:13, 12.27s/it]"
     ]
    },
    {
     "name": "stdout",
     "output_type": "stream",
     "text": [
      "Performing prediction on 54 number of slices.\n"
     ]
    },
    {
     "name": "stderr",
     "output_type": "stream",
     "text": [
      "Performing inference on images:  50%|███████████████████████▌                       | 5/10 [01:02<01:01, 12.35s/it]"
     ]
    },
    {
     "name": "stdout",
     "output_type": "stream",
     "text": [
      "Prediction time is: 12327.70 ms\n"
     ]
    },
    {
     "name": "stderr",
     "output_type": "stream",
     "text": [
      "Performing inference on images:  50%|███████████████████████▌                       | 5/10 [01:02<01:01, 12.35s/it]"
     ]
    },
    {
     "name": "stdout",
     "output_type": "stream",
     "text": [
      "Performing prediction on 54 number of slices.\n"
     ]
    },
    {
     "name": "stderr",
     "output_type": "stream",
     "text": [
      "Performing inference on images:  60%|████████████████████████████▏                  | 6/10 [01:14<00:49, 12.28s/it]"
     ]
    },
    {
     "name": "stdout",
     "output_type": "stream",
     "text": [
      "Prediction time is: 11967.79 ms\n"
     ]
    },
    {
     "name": "stderr",
     "output_type": "stream",
     "text": [
      "Performing inference on images:  60%|████████████████████████████▏                  | 6/10 [01:14<00:49, 12.28s/it]"
     ]
    },
    {
     "name": "stdout",
     "output_type": "stream",
     "text": [
      "Performing prediction on 54 number of slices.\n"
     ]
    },
    {
     "name": "stderr",
     "output_type": "stream",
     "text": [
      "Performing inference on images:  70%|████████████████████████████████▉              | 7/10 [01:26<00:36, 12.29s/it]"
     ]
    },
    {
     "name": "stdout",
     "output_type": "stream",
     "text": [
      "Prediction time is: 12165.95 ms\n"
     ]
    },
    {
     "name": "stderr",
     "output_type": "stream",
     "text": [
      "Performing inference on images:  70%|████████████████████████████████▉              | 7/10 [01:27<00:36, 12.29s/it]"
     ]
    },
    {
     "name": "stdout",
     "output_type": "stream",
     "text": [
      "Performing prediction on 54 number of slices.\n"
     ]
    },
    {
     "name": "stderr",
     "output_type": "stream",
     "text": [
      "Performing inference on images:  80%|█████████████████████████████████████▌         | 8/10 [01:39<00:24, 12.28s/it]"
     ]
    },
    {
     "name": "stdout",
     "output_type": "stream",
     "text": [
      "Prediction time is: 12084.48 ms\n"
     ]
    },
    {
     "name": "stderr",
     "output_type": "stream",
     "text": [
      "Performing inference on images:  80%|█████████████████████████████████████▌         | 8/10 [01:39<00:24, 12.28s/it]"
     ]
    },
    {
     "name": "stdout",
     "output_type": "stream",
     "text": [
      "Performing prediction on 54 number of slices.\n"
     ]
    },
    {
     "name": "stderr",
     "output_type": "stream",
     "text": [
      "Performing inference on images:  90%|██████████████████████████████████████████▎    | 9/10 [01:51<00:12, 12.22s/it]"
     ]
    },
    {
     "name": "stdout",
     "output_type": "stream",
     "text": [
      "Prediction time is: 11905.78 ms\n"
     ]
    },
    {
     "name": "stderr",
     "output_type": "stream",
     "text": [
      "Performing inference on images:  90%|██████████████████████████████████████████▎    | 9/10 [01:51<00:12, 12.22s/it]"
     ]
    },
    {
     "name": "stdout",
     "output_type": "stream",
     "text": [
      "Performing prediction on 54 number of slices.\n"
     ]
    },
    {
     "name": "stderr",
     "output_type": "stream",
     "text": [
      "Performing inference on images: 100%|██████████████████████████████████████████████| 10/10 [02:03<00:00, 12.32s/it]"
     ]
    },
    {
     "name": "stdout",
     "output_type": "stream",
     "text": [
      "Prediction time is: 11850.26 ms\n",
      "Prediction results are successfully exported to fiftyone/coco_test/ext\n"
     ]
    },
    {
     "name": "stderr",
     "output_type": "stream",
     "text": [
      "\n"
     ]
    }
   ],
   "source": [
    "source_path = \"fiftyone/coco_test\"\n",
    "\n",
    "# get batch predict result\n",
    "result = predict(\n",
    "    model_type=\"yolov8\", # one of 'yolov5', 'mmdet', 'detectron2'\n",
    "    model_path=\"yolo_weights/best_20230813.pt\", # path to model weight file\n",
    "    model_config_path=\"data/pid_dataset.yaml\", # for detectron2 and mmdet models\n",
    "    model_confidence_threshold=0.1,\n",
    "    model_device='cpu', # or 'cuda:0'\n",
    "    source=source_path, # image or folder path\n",
    "    no_standard_prediction=True,\n",
    "    no_sliced_prediction=False,\n",
    "    slice_height=640,\n",
    "    slice_width=640,\n",
    "    overlap_height_ratio=0.1, \n",
    "    overlap_width_ratio=0.1,\n",
    "    export_pickle=False,\n",
    "    export_crop=False,\n",
    "    novisual=True,\n",
    "    project=\"fiftyone/coco_test\",\n",
    "    name=\"ext\",\n",
    "    dataset_json_path=\"fiftyone/coco_test/coco_dataset.json\",\n",
    "    return_dict=True\n",
    ")"
   ]
  },
  {
   "cell_type": "code",
   "execution_count": 23,
   "id": "268f470c-c178-45fa-bd21-de019c174172",
   "metadata": {},
   "outputs": [
    {
     "name": "stdout",
     "output_type": "stream",
     "text": [
      "fiftyone/coco_test/ext/result.json\n"
     ]
    }
   ],
   "source": [
    "prediction_path = str(result[\"export_dir\"]) + \"/result.json\"\n",
    "print(prediction_path)"
   ]
  },
  {
   "cell_type": "code",
   "execution_count": 25,
   "id": "a120f38c-41c8-4392-b300-55cea0630492",
   "metadata": {},
   "outputs": [
    {
     "name": "stdout",
     "output_type": "stream",
     "text": []
    },
    {
     "name": "stdout",
     "output_type": "stream",
     "text": [
      " 100% |███████████████████| 10/10 [34.8ms elapsed, 0s remaining, 287.2 samples/s]     \n"
     ]
    },
    {
     "name": "stderr",
     "output_type": "stream",
     "text": [
      "08/16/2023 12:26:09 - INFO - eta.core.utils -    100% |███████████████████| 10/10 [34.8ms elapsed, 0s remaining, 287.2 samples/s]     \n"
     ]
    },
    {
     "name": "stdout",
     "output_type": "stream",
     "text": [
      "['angle valve', 'ball valve', 'butterfly valve', 'check valve', 'gate valve', 'globe valve', 'plug valve', 'safety valve', 'three way valve']\n"
     ]
    }
   ],
   "source": [
    "import fiftyone as fo\n",
    "\n",
    "# Load COCO formatted dataset\n",
    "coco_dataset = fo.Dataset.from_dir(\n",
    "    dataset_type=fo.types.COCODetectionDataset,\n",
    "    data_path=\"fiftyone/coco_test\",\n",
    "    labels_path=\"fiftyone/coco_test/coco_dataset.json\",\n",
    "    include_id=True,\n",
    ")\n",
    "\n",
    "# Verify that the class list for our dataset was imported\n",
    "print(coco_dataset.default_classes)  # ['airplane', 'apple', ...]"
   ]
  },
  {
   "cell_type": "code",
   "execution_count": 26,
   "id": "e66579fd-fc34-4be5-b46b-c32b6de58c52",
   "metadata": {},
   "outputs": [
    {
     "name": "stdout",
     "output_type": "stream",
     "text": [
      "10\n"
     ]
    }
   ],
   "source": [
    "import fiftyone.utils.coco as fouc\n",
    "\n",
    "# Add COCO prediction to 'predictions' field of dataset\n",
    "classes = coco_dataset.default_classes\n",
    "fouc.add_coco_labels(coco_dataset, \"predictions\", prediction_path, classes)\n",
    "\n",
    "#Verify that predictions were added to image\n",
    "print(coco_dataset.count(\"predictions\"))"
   ]
  },
  {
   "cell_type": "code",
   "execution_count": 27,
   "id": "a7e43b05-ccde-4da9-98e6-2115603221f2",
   "metadata": {},
   "outputs": [
    {
     "data": {
      "text/html": [
       "\n",
       "        <iframe\n",
       "            width=\"100%\"\n",
       "            height=\"800\"\n",
       "            src=\"http://localhost:5151/?notebook=True&subscription=08130124-f9d9-498e-b9bf-dae6345fb3af\"\n",
       "            frameborder=\"0\"\n",
       "            allowfullscreen\n",
       "            \n",
       "        ></iframe>\n",
       "        "
      ],
      "text/plain": [
       "<IPython.lib.display.IFrame at 0x163a39fd0>"
      ]
     },
     "metadata": {},
     "output_type": "display_data"
    }
   ],
   "source": [
    "view = coco_dataset.view()\n",
    "\n",
    "session = fo.launch_app(view=view)"
   ]
  },
  {
   "cell_type": "code",
   "execution_count": 28,
   "id": "30d1883f-07d3-47ea-b64d-e411f28c5059",
   "metadata": {},
   "outputs": [],
   "source": [
    "session.close()"
   ]
  },
  {
   "cell_type": "code",
   "execution_count": null,
   "id": "4643c72b-23e6-4f54-8c4e-22715feeeb20",
   "metadata": {},
   "outputs": [],
   "source": [
    "coco_dataset.draw_labels(\n",
    "    \"fiftyone/prediction/draw-labels\",\n",
    "    label_fields=[\"predictions\"],\n",
    ")"
   ]
  }
 ],
 "metadata": {
  "kernelspec": {
   "display_name": "Python 3 (ipykernel)",
   "language": "python",
   "name": "python3"
  },
  "language_info": {
   "codemirror_mode": {
    "name": "ipython",
    "version": 3
   },
   "file_extension": ".py",
   "mimetype": "text/x-python",
   "name": "python",
   "nbconvert_exporter": "python",
   "pygments_lexer": "ipython3",
   "version": "3.11.4"
  }
 },
 "nbformat": 4,
 "nbformat_minor": 5
}
