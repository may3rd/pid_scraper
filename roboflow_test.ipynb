{
 "cells": [
  {
   "cell_type": "code",
   "execution_count": 9,
   "metadata": {},
   "outputs": [
    {
     "name": "stdout",
     "output_type": "stream",
     "text": [
      "loading Roboflow workspace...\n",
      "loading Roboflow project...\n"
     ]
    }
   ],
   "source": [
    "from roboflow import Roboflow\n",
    "rf = Roboflow(api_key=\"UOHUgRVyxcs0TNjeQAxz\")\n",
    "project = rf.workspace().project(\"pid-scraper-01\")\n",
    "model = project.version(1).model\n",
    "\n",
    "# infer on a local image\n",
    "results = model.predict(\"test/sliced/sliced_1024_0_2304_1280.jpg\", confidence=25, overlap=30).json()\n",
    "\n",
    "# visualize your prediction\n",
    "# model.predict(\"your_image.jpg\", confidence=40, overlap=30).save(\"prediction.jpg\")\n",
    "\n",
    "# infer on an image hosted elsewhere\n",
    "# print(model.predict(\"URL_OF_YOUR_IMAGE\", hosted=True, confidence=40, overlap=30).json())"
   ]
  },
  {
   "cell_type": "code",
   "execution_count": 11,
   "metadata": {},
   "outputs": [
    {
     "name": "stdout",
     "output_type": "stream",
     "text": [
      "917.0 1123.5 20.0 35.0 gate valve 0.873774528503418\n",
      "475.5 1043.0 35.0 22.0 gate valve 0.8714823722839355\n",
      "1266.5 862.0 27.0 22.0 globe valve 0.8534097671508789\n",
      "1267.5 776.0 25.0 22.0 globe valve 0.8493661880493164\n",
      "404.5 1042.5 35.0 21.0 gate valve 0.8352912664413452\n",
      "243.0 1195.5 20.0 35.0 check valve 0.8312147855758667\n",
      "1266.5 905.0 27.0 22.0 globe valve 0.8290488719940186\n",
      "1267.0 819.0 26.0 22.0 globe valve 0.8249121308326721\n",
      "1063.5 560.0 39.0 20.0 check valve 0.8031845092773438\n",
      "1002.5 559.5 43.0 21.0 gate valve 0.800176203250885\n",
      "617.0 1183.5 20.0 31.0 check valve 0.7934137582778931\n",
      "1140.5 1158.5 35.0 21.0 gate valve 0.7903175354003906\n",
      "889.0 1151.5 34.0 17.0 gate valve 0.7893191576004028\n",
      "1167.5 1130.0 19.0 34.0 gate valve 0.7814436554908752\n",
      "445.5 1103.5 19.0 37.0 gate valve 0.7409332990646362\n",
      "646.0 1151.5 36.0 17.0 gate valve 0.7292863726615906\n",
      "271.5 1166.5 35.0 17.0 gate valve 0.6125568151473999\n",
      "617.5 1121.5 21.0 35.0 gate valve 0.5860093235969543\n",
      "917.0 1182.5 20.0 35.0 check valve 0.554976224899292\n",
      "1120.0 841.5 36.0 21.0 gate valve 0.4665966033935547\n"
     ]
    }
   ],
   "source": [
    "predictions = results[\"predictions\"]\n",
    "\n",
    "for prediction in predictions:\n",
    "    x = prediction[\"x\"]\n",
    "    y = prediction[\"y\"]\n",
    "    width = prediction[\"width\"]\n",
    "    height = prediction[\"height\"]\n",
    "    obj_class = prediction[\"class\"]\n",
    "    conf = prediction[\"confidence\"]\n",
    "    print(x, y, width, height, obj_class, conf)\n"
   ]
  }
 ],
 "metadata": {
  "kernelspec": {
   "display_name": "pid_scraper",
   "language": "python",
   "name": "python3"
  },
  "language_info": {
   "codemirror_mode": {
    "name": "ipython",
    "version": 3
   },
   "file_extension": ".py",
   "mimetype": "text/x-python",
   "name": "python",
   "nbconvert_exporter": "python",
   "pygments_lexer": "ipython3",
   "version": "3.11.4"
  },
  "orig_nbformat": 4
 },
 "nbformat": 4,
 "nbformat_minor": 2
}
