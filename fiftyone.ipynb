{
 "cells": [
  {
   "cell_type": "code",
   "execution_count": null,
   "id": "534878fc-4cbb-48a4-afd4-4281daa62cac",
   "metadata": {},
   "outputs": [],
   "source": [
    "import fiftyone as fo\n",
    "import fiftyone.zoo as foz"
   ]
  },
  {
   "cell_type": "code",
   "execution_count": null,
   "id": "f98fc08e-787b-4e34-b48a-573db91a899e",
   "metadata": {},
   "outputs": [],
   "source": [
    "# Load COCO formatted dataset\n",
    "coco_dataset = fo.Dataset.from_dir(\n",
    "    dataset_type=fo.types.COCODetectionDataset,\n",
    "    data_path=\"fiftyone/prediction\",\n",
    "    labels_path=\"fiftyone/prediction/coco_dataset.json\",\n",
    "    include_id=True,\n",
    ")\n",
    "\n",
    "# Verify that the class list for our dataset was imported\n",
    "print(coco_dataset.default_classes)  # ['airplane', 'apple', ...]\n",
    "\n",
    "print(coco_dataset)"
   ]
  },
  {
   "cell_type": "code",
   "execution_count": null,
   "id": "b7f0a404-c006-40aa-b13a-e413842271e2",
   "metadata": {},
   "outputs": [],
   "source": [
    "import fiftyone.utils.coco as fouc\n",
    "\n",
    "# Add COCO prediction to 'predictions' field of dataset\n",
    "classes = coco_dataset.default_classes\n",
    "fouc.add_coco_labels(coco_dataset, \"predictions\", \"fiftyone/prediction/coco_prediction.json\", classes)\n",
    "\n",
    "#Verify that predictions were added to image\n",
    "print(coco_dataset.count(\"predictions\"))"
   ]
  },
  {
   "cell_type": "code",
   "execution_count": null,
   "id": "a0c5071f-6969-4fe2-b76d-10674315e365",
   "metadata": {},
   "outputs": [],
   "source": [
    "view = coco_dataset.view()"
   ]
  },
  {
   "cell_type": "code",
   "execution_count": null,
   "id": "a7cad291-caac-4eff-a636-74256caa4e14",
   "metadata": {},
   "outputs": [],
   "source": [
    "session = fo.launch_app(view=view)"
   ]
  },
  {
   "cell_type": "code",
   "execution_count": null,
   "id": "9035a303-2d26-4e50-97b4-0ef85e110e29",
   "metadata": {},
   "outputs": [],
   "source": [
    "session.close()"
   ]
  },
  {
   "cell_type": "code",
   "execution_count": null,
   "id": "771f347a-3992-4ac5-a8f2-09fe7cf0ad0c",
   "metadata": {},
   "outputs": [],
   "source": [
    "coco_dataset.draw_labels(\n",
    "    \"fiftyone/prediction/draw-labels\",\n",
    "    label_fields=[\"predictions\"],\n",
    ")"
   ]
  }
 ],
 "metadata": {
  "kernelspec": {
   "display_name": "Python 3 (ipykernel)",
   "language": "python",
   "name": "python3"
  },
  "language_info": {
   "codemirror_mode": {
    "name": "ipython",
    "version": 3
   },
   "file_extension": ".py",
   "mimetype": "text/x-python",
   "name": "python",
   "nbconvert_exporter": "python",
   "pygments_lexer": "ipython3",
   "version": "3.11.4"
  }
 },
 "nbformat": 4,
 "nbformat_minor": 5
}
